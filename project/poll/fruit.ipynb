{
 "cells": [
  {
   "cell_type": "code",
   "execution_count": null,
   "metadata": {},
   "outputs": [],
   "source": [
    "import pandas as pd\n",
    "\n",
    "fruit = pd.read_excel(\"excel/veg.xlsx\")\n",
    "fruit"
   ]
  },
  {
   "cell_type": "markdown",
   "metadata": {},
   "source": []
  },
  {
   "cell_type": "code",
   "execution_count": 1,
   "metadata": {},
   "outputs": [
    {
     "name": "stdout",
     "output_type": "stream",
     "text": [
      "b'<RESULT><CODE>ERROR-300</CODE><MESSAGE><![CDATA[\\xed\\x95\\x84\\xec\\x88\\x98 \\xea\\xb0\\x92\\xec\\x9d\\xb4 \\xeb\\x88\\x84\\xeb\\x9d\\xbd\\xeb\\x90\\x98\\xec\\x96\\xb4 \\xec\\x9e\\x88\\xec\\x8a\\xb5\\xeb\\x8b\\x88\\xeb\\x8b\\xa4.\\n\\xec\\x9a\\x94\\xec\\xb2\\xad\\xec\\x9d\\xb8\\xec\\x9e\\x90\\xeb\\xa5\\xbc \\xec\\xb0\\xb8\\xea\\xb3\\xa0 \\xed\\x95\\x98\\xec\\x8b\\xad\\xec\\x8b\\x9c\\xec\\x98\\xa4.]]></MESSAGE></RESULT>'\n"
     ]
    }
   ],
   "source": [
    "import requests\n",
    "\n",
    "url ='http://openapi.seoul.go.kr:8088/72434549796b67313637755a546279?KEY=72434549796b67313637755a546279&TYPE=json&SERVICE=ListPriceModelStoreService&START_INDEX=1&END_INDEX=3&INDETY_CODE_SE=001'\n",
    "\n",
    "response = requests.get(url)\n",
    "print(response.content)"
   ]
  },
  {
   "cell_type": "code",
   "execution_count": null,
   "metadata": {},
   "outputs": [],
   "source": []
  }
 ],
 "metadata": {
  "kernelspec": {
   "display_name": "venv",
   "language": "python",
   "name": "python3"
  },
  "language_info": {
   "codemirror_mode": {
    "name": "ipython",
    "version": 3
   },
   "file_extension": ".py",
   "mimetype": "text/x-python",
   "name": "python",
   "nbconvert_exporter": "python",
   "pygments_lexer": "ipython3",
   "version": "3.11.4"
  },
  "orig_nbformat": 4
 },
 "nbformat": 4,
 "nbformat_minor": 2
}
